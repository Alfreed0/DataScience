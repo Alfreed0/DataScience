{
 "cells": [
  {
   "cell_type": "markdown",
   "metadata": {},
   "source": [
    "1. <font color='green'>Importe de librerias</font>"
   ]
  },
  {
   "cell_type": "code",
   "execution_count": 1,
   "metadata": {},
   "outputs": [],
   "source": [
    "import pandas as pd\n",
    "import numpy as np"
   ]
  },
  {
   "cell_type": "markdown",
   "metadata": {},
   "source": [
    "2. <font color='green'>Lectura de archivo definiendo los valores nulos</font>"
   ]
  },
  {
   "cell_type": "code",
   "execution_count": 2,
   "metadata": {},
   "outputs": [],
   "source": [
    "df = pd.read_csv(\n",
    "    '../Data/data_2019-1.csv',\n",
    "    keep_default_na=False,\n",
    "    na_values=[' ', 'NULL', 'NaN', 'nan', 'NAN', 'null', 'NA', 'na', 'Na', 'nA', ''],\n",
    "    )"
   ]
  },
  {
   "cell_type": "markdown",
   "metadata": {},
   "source": [
    "<font size='5'>Dataframe antes de los cambios pedidos en la tarea</font>"
   ]
  },
  {
   "cell_type": "code",
   "execution_count": 3,
   "metadata": {},
   "outputs": [
    {
     "data": {
      "text/plain": [
       "antigüedad                 object\n",
       "cuartos                   float64\n",
       "cuartosdebaño             float64\n",
       "estacionamiento            object\n",
       "latlong                    object\n",
       "metroscuadradostotales    float64\n",
       "precio                     object\n",
       "publicado                  object\n",
       "tipodevendedor             object\n",
       "titulo                     object\n",
       "dtype: object"
      ]
     },
     "execution_count": 3,
     "metadata": {},
     "output_type": "execute_result"
    }
   ],
   "source": [
    "df.dtypes"
   ]
  },
  {
   "cell_type": "code",
   "execution_count": 4,
   "metadata": {},
   "outputs": [
    {
     "data": {
      "text/plain": [
       "(4758, 10)"
      ]
     },
     "execution_count": 4,
     "metadata": {},
     "output_type": "execute_result"
    }
   ],
   "source": [
    "df.shape"
   ]
  },
  {
   "cell_type": "code",
   "execution_count": 5,
   "metadata": {},
   "outputs": [
    {
     "data": {
      "text/html": [
       "<div>\n",
       "<style scoped>\n",
       "    .dataframe tbody tr th:only-of-type {\n",
       "        vertical-align: middle;\n",
       "    }\n",
       "\n",
       "    .dataframe tbody tr th {\n",
       "        vertical-align: top;\n",
       "    }\n",
       "\n",
       "    .dataframe thead th {\n",
       "        text-align: right;\n",
       "    }\n",
       "</style>\n",
       "<table border=\"1\" class=\"dataframe\">\n",
       "  <thead>\n",
       "    <tr style=\"text-align: right;\">\n",
       "      <th></th>\n",
       "      <th>antigüedad</th>\n",
       "      <th>cuartos</th>\n",
       "      <th>cuartosdebaño</th>\n",
       "      <th>estacionamiento</th>\n",
       "      <th>latlong</th>\n",
       "      <th>metroscuadradostotales</th>\n",
       "      <th>precio</th>\n",
       "      <th>publicado</th>\n",
       "      <th>tipodevendedor</th>\n",
       "      <th>titulo</th>\n",
       "    </tr>\n",
       "  </thead>\n",
       "  <tbody>\n",
       "    <tr>\n",
       "      <th>0</th>\n",
       "      <td>Entre 5 y 10 años</td>\n",
       "      <td>3.0</td>\n",
       "      <td>3.0</td>\n",
       "      <td>NaN</td>\n",
       "      <td>https://www.google.com/maps/place/-2.130760908...</td>\n",
       "      <td>400.0</td>\n",
       "      <td>$375.500</td>\n",
       "      <td>Publicado hace 4 hs</td>\n",
       "      <td>Inmobiliaria</td>\n",
       "      <td>Venta de  Casa Laguna Del Sol, 3 dormitorios, ...</td>\n",
       "    </tr>\n",
       "    <tr>\n",
       "      <th>1</th>\n",
       "      <td>Entre 10 y 20 años</td>\n",
       "      <td>4.0</td>\n",
       "      <td>5.0</td>\n",
       "      <td>Si</td>\n",
       "      <td>https://www.google.com/maps/place/-2.134000062...</td>\n",
       "      <td>337.0</td>\n",
       "      <td>$150.000</td>\n",
       "      <td>Publicado hace 11 hs</td>\n",
       "      <td>Inmobiliaria</td>\n",
       "      <td>En Venta Casa en Cdla. La Alborada Décima Etapa</td>\n",
       "    </tr>\n",
       "    <tr>\n",
       "      <th>2</th>\n",
       "      <td>Hasta 5 años</td>\n",
       "      <td>1.0</td>\n",
       "      <td>2.0</td>\n",
       "      <td>NaN</td>\n",
       "      <td>https://www.google.com/maps/place/-2.198999881...</td>\n",
       "      <td>95.0</td>\n",
       "      <td>$108.000</td>\n",
       "      <td>Publicado hace 4 hs</td>\n",
       "      <td>Inmobiliaria</td>\n",
       "      <td>Venta de Suit amoblada Kennedy Point, planta baja</td>\n",
       "    </tr>\n",
       "    <tr>\n",
       "      <th>3</th>\n",
       "      <td>Entre 10 y 20 años</td>\n",
       "      <td>1.0</td>\n",
       "      <td>1.0</td>\n",
       "      <td>Si</td>\n",
       "      <td>https://www.google.com/maps/place/-2.172635316...</td>\n",
       "      <td>60.0</td>\n",
       "      <td>$65.000</td>\n",
       "      <td>Publicado hace 4 hs</td>\n",
       "      <td>Dueño Directo</td>\n",
       "      <td>Suite Kennedy Amoblada</td>\n",
       "    </tr>\n",
       "    <tr>\n",
       "      <th>4</th>\n",
       "      <td>Hasta 5 años</td>\n",
       "      <td>3.0</td>\n",
       "      <td>3.0</td>\n",
       "      <td>Si</td>\n",
       "      <td>https://www.google.com/maps/place/-2.048000097...</td>\n",
       "      <td>132.0</td>\n",
       "      <td>$138.000</td>\n",
       "      <td>Publicado hace 4 hs</td>\n",
       "      <td>Inmobiliaria</td>\n",
       "      <td>Casa en Venta Urb. El Condado Vicolinci, Guaya...</td>\n",
       "    </tr>\n",
       "  </tbody>\n",
       "</table>\n",
       "</div>"
      ],
      "text/plain": [
       "           antigüedad  cuartos  cuartosdebaño estacionamiento  \\\n",
       "0   Entre 5 y 10 años      3.0            3.0             NaN   \n",
       "1  Entre 10 y 20 años      4.0            5.0              Si   \n",
       "2        Hasta 5 años      1.0            2.0             NaN   \n",
       "3  Entre 10 y 20 años      1.0            1.0              Si   \n",
       "4        Hasta 5 años      3.0            3.0              Si   \n",
       "\n",
       "                                             latlong  metroscuadradostotales  \\\n",
       "0  https://www.google.com/maps/place/-2.130760908...                   400.0   \n",
       "1  https://www.google.com/maps/place/-2.134000062...                   337.0   \n",
       "2  https://www.google.com/maps/place/-2.198999881...                    95.0   \n",
       "3  https://www.google.com/maps/place/-2.172635316...                    60.0   \n",
       "4  https://www.google.com/maps/place/-2.048000097...                   132.0   \n",
       "\n",
       "      precio             publicado tipodevendedor  \\\n",
       "0   $375.500   Publicado hace 4 hs   Inmobiliaria   \n",
       "1   $150.000  Publicado hace 11 hs   Inmobiliaria   \n",
       "2   $108.000   Publicado hace 4 hs   Inmobiliaria   \n",
       "3    $65.000   Publicado hace 4 hs  Dueño Directo   \n",
       "4   $138.000   Publicado hace 4 hs   Inmobiliaria   \n",
       "\n",
       "                                              titulo  \n",
       "0  Venta de  Casa Laguna Del Sol, 3 dormitorios, ...  \n",
       "1    En Venta Casa en Cdla. La Alborada Décima Etapa  \n",
       "2  Venta de Suit amoblada Kennedy Point, planta baja  \n",
       "3                             Suite Kennedy Amoblada  \n",
       "4  Casa en Venta Urb. El Condado Vicolinci, Guaya...  "
      ]
     },
     "execution_count": 5,
     "metadata": {},
     "output_type": "execute_result"
    }
   ],
   "source": [
    "df.head()"
   ]
  },
  {
   "cell_type": "markdown",
   "metadata": {},
   "source": [
    "3. <font color='green'>Dropeo de columnas que no son de interés en el análisis</font>"
   ]
  },
  {
   "cell_type": "code",
   "execution_count": 6,
   "metadata": {},
   "outputs": [],
   "source": [
    "df.drop(columns=['antigüedad', 'cuartos', 'cuartosdebaño', 'estacionamiento', 'publicado', 'tipodevendedor'], inplace=True)"
   ]
  },
  {
   "cell_type": "markdown",
   "metadata": {},
   "source": [
    "4. <font color='green'>Limpiar las filas con datos nulos</font>"
   ]
  },
  {
   "cell_type": "code",
   "execution_count": 7,
   "metadata": {},
   "outputs": [],
   "source": [
    "df.dropna(inplace=True)"
   ]
  },
  {
   "cell_type": "markdown",
   "metadata": {},
   "source": [
    "5. <font color='green'>Inclusión de las series de latitud y longitud</font>"
   ]
  },
  {
   "cell_type": "code",
   "execution_count": 8,
   "metadata": {},
   "outputs": [],
   "source": [
    "df[['latitud', 'longitud']] = df['latlong'].str.split('/', expand=True)[5].str.split(',', expand=True)"
   ]
  },
  {
   "cell_type": "markdown",
   "metadata": {},
   "source": [
    "6. <font color='green'>Reemplazo de caracteres en la serie precio</font>"
   ]
  },
  {
   "cell_type": "code",
   "execution_count": 9,
   "metadata": {},
   "outputs": [],
   "source": [
    "df['precio'] = df['precio'].str.replace('$', '', regex=False).str.strip(' ').str.replace('.', '', regex=False)"
   ]
  },
  {
   "cell_type": "markdown",
   "metadata": {},
   "source": [
    "7. <font color='green'>Casteo de valores en las series al tipo de dato que le corresponde</font>"
   ]
  },
  {
   "cell_type": "code",
   "execution_count": 10,
   "metadata": {},
   "outputs": [],
   "source": [
    "df['precio'] = df['precio'].astype('int64')\n",
    "df['metroscuadradostotales'] = df['metroscuadradostotales'].astype('int64')\n",
    "df['latitud'] = df['latitud'].astype('float64')\n",
    "df['longitud'] = df['longitud'].astype('float64')"
   ]
  },
  {
   "cell_type": "markdown",
   "metadata": {},
   "source": [
    "8. <font color='green'>Inclusión de serie preciomt2</font>"
   ]
  },
  {
   "cell_type": "code",
   "execution_count": 11,
   "metadata": {},
   "outputs": [],
   "source": [
    "df['preciomt2'] = df['precio'] / df['metroscuadradostotales']"
   ]
  },
  {
   "cell_type": "markdown",
   "metadata": {},
   "source": [
    "9. <font color='green'>Dropeo de la columna latlong</font>"
   ]
  },
  {
   "cell_type": "code",
   "execution_count": 12,
   "metadata": {},
   "outputs": [],
   "source": [
    "df.drop(columns=['latlong'], inplace=True)"
   ]
  },
  {
   "cell_type": "markdown",
   "metadata": {},
   "source": [
    "10. <font color='green'>Dropeo de valores duplicados dependiendo de las series precio, metroscuadradostotales, latitud, longitud</font>"
   ]
  },
  {
   "cell_type": "code",
   "execution_count": 13,
   "metadata": {},
   "outputs": [],
   "source": [
    "df.drop_duplicates(subset=['precio', 'metroscuadradostotales', 'latitud', 'longitud'], inplace=True)"
   ]
  },
  {
   "cell_type": "markdown",
   "metadata": {},
   "source": [
    "11. <font color='green'>Reseteo de índices</font>"
   ]
  },
  {
   "cell_type": "code",
   "execution_count": 14,
   "metadata": {},
   "outputs": [],
   "source": [
    "df.reset_index(drop=True, inplace=True)"
   ]
  },
  {
   "cell_type": "markdown",
   "metadata": {},
   "source": [
    "12. <font color='green'>Exporte del nuevo dataframe limpio a un archivo csv</font>"
   ]
  },
  {
   "cell_type": "code",
   "execution_count": 15,
   "metadata": {},
   "outputs": [],
   "source": [
    "df.to_csv('../Output/dataset_final_csv.csv', index=False)"
   ]
  },
  {
   "cell_type": "markdown",
   "metadata": {},
   "source": [
    "<font size='5'>Dataframe despues de los cambios efectuados</font>"
   ]
  },
  {
   "cell_type": "code",
   "execution_count": 16,
   "metadata": {},
   "outputs": [
    {
     "data": {
      "text/plain": [
       "metroscuadradostotales      int64\n",
       "precio                      int64\n",
       "titulo                     object\n",
       "latitud                   float64\n",
       "longitud                  float64\n",
       "preciomt2                 float64\n",
       "dtype: object"
      ]
     },
     "execution_count": 16,
     "metadata": {},
     "output_type": "execute_result"
    }
   ],
   "source": [
    "df.dtypes"
   ]
  },
  {
   "cell_type": "code",
   "execution_count": 17,
   "metadata": {},
   "outputs": [
    {
     "data": {
      "text/plain": [
       "(4512, 6)"
      ]
     },
     "execution_count": 17,
     "metadata": {},
     "output_type": "execute_result"
    }
   ],
   "source": [
    "df.shape"
   ]
  },
  {
   "cell_type": "code",
   "execution_count": 18,
   "metadata": {},
   "outputs": [
    {
     "data": {
      "text/html": [
       "<div>\n",
       "<style scoped>\n",
       "    .dataframe tbody tr th:only-of-type {\n",
       "        vertical-align: middle;\n",
       "    }\n",
       "\n",
       "    .dataframe tbody tr th {\n",
       "        vertical-align: top;\n",
       "    }\n",
       "\n",
       "    .dataframe thead th {\n",
       "        text-align: right;\n",
       "    }\n",
       "</style>\n",
       "<table border=\"1\" class=\"dataframe\">\n",
       "  <thead>\n",
       "    <tr style=\"text-align: right;\">\n",
       "      <th></th>\n",
       "      <th>metroscuadradostotales</th>\n",
       "      <th>precio</th>\n",
       "      <th>titulo</th>\n",
       "      <th>latitud</th>\n",
       "      <th>longitud</th>\n",
       "      <th>preciomt2</th>\n",
       "    </tr>\n",
       "  </thead>\n",
       "  <tbody>\n",
       "    <tr>\n",
       "      <th>0</th>\n",
       "      <td>400</td>\n",
       "      <td>375500</td>\n",
       "      <td>Venta de  Casa Laguna Del Sol, 3 dormitorios, ...</td>\n",
       "      <td>-2.130761</td>\n",
       "      <td>-79.906738</td>\n",
       "      <td>938.750000</td>\n",
       "    </tr>\n",
       "    <tr>\n",
       "      <th>1</th>\n",
       "      <td>337</td>\n",
       "      <td>150000</td>\n",
       "      <td>En Venta Casa en Cdla. La Alborada Décima Etapa</td>\n",
       "      <td>-2.134000</td>\n",
       "      <td>-79.908997</td>\n",
       "      <td>445.103858</td>\n",
       "    </tr>\n",
       "    <tr>\n",
       "      <th>2</th>\n",
       "      <td>95</td>\n",
       "      <td>108000</td>\n",
       "      <td>Venta de Suit amoblada Kennedy Point, planta baja</td>\n",
       "      <td>-2.199000</td>\n",
       "      <td>-79.907997</td>\n",
       "      <td>1136.842105</td>\n",
       "    </tr>\n",
       "    <tr>\n",
       "      <th>3</th>\n",
       "      <td>60</td>\n",
       "      <td>65000</td>\n",
       "      <td>Suite Kennedy Amoblada</td>\n",
       "      <td>-2.172635</td>\n",
       "      <td>-79.900551</td>\n",
       "      <td>1083.333333</td>\n",
       "    </tr>\n",
       "    <tr>\n",
       "      <th>4</th>\n",
       "      <td>132</td>\n",
       "      <td>138000</td>\n",
       "      <td>Casa en Venta Urb. El Condado Vicolinci, Guaya...</td>\n",
       "      <td>-2.048000</td>\n",
       "      <td>-79.904999</td>\n",
       "      <td>1045.454545</td>\n",
       "    </tr>\n",
       "  </tbody>\n",
       "</table>\n",
       "</div>"
      ],
      "text/plain": [
       "   metroscuadradostotales  precio  \\\n",
       "0                     400  375500   \n",
       "1                     337  150000   \n",
       "2                      95  108000   \n",
       "3                      60   65000   \n",
       "4                     132  138000   \n",
       "\n",
       "                                              titulo   latitud   longitud  \\\n",
       "0  Venta de  Casa Laguna Del Sol, 3 dormitorios, ... -2.130761 -79.906738   \n",
       "1    En Venta Casa en Cdla. La Alborada Décima Etapa -2.134000 -79.908997   \n",
       "2  Venta de Suit amoblada Kennedy Point, planta baja -2.199000 -79.907997   \n",
       "3                             Suite Kennedy Amoblada -2.172635 -79.900551   \n",
       "4  Casa en Venta Urb. El Condado Vicolinci, Guaya... -2.048000 -79.904999   \n",
       "\n",
       "     preciomt2  \n",
       "0   938.750000  \n",
       "1   445.103858  \n",
       "2  1136.842105  \n",
       "3  1083.333333  \n",
       "4  1045.454545  "
      ]
     },
     "execution_count": 18,
     "metadata": {},
     "output_type": "execute_result"
    }
   ],
   "source": [
    "df.head()"
   ]
  },
  {
   "cell_type": "code",
   "execution_count": null,
   "metadata": {},
   "outputs": [],
   "source": []
  }
 ],
 "metadata": {
  "kernelspec": {
   "display_name": "Python 3.9.12 ('base')",
   "language": "python",
   "name": "python3"
  },
  "language_info": {
   "codemirror_mode": {
    "name": "ipython",
    "version": 3
   },
   "file_extension": ".py",
   "mimetype": "text/x-python",
   "name": "python",
   "nbconvert_exporter": "python",
   "pygments_lexer": "ipython3",
   "version": "3.9.12"
  },
  "orig_nbformat": 4,
  "vscode": {
   "interpreter": {
    "hash": "f231e3dd4e2310233f0da3bebee70897f3f224a7a9840570fc27b4051ed897ef"
   }
  }
 },
 "nbformat": 4,
 "nbformat_minor": 2
}
