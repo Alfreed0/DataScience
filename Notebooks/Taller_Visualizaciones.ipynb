{
 "cells": [
  {
   "cell_type": "markdown",
   "metadata": {},
   "source": [
    "<center><font size='20' color='red'>Taller de Visualizaciones</font></center>"
   ]
  },
  {
   "cell_type": "code",
   "execution_count": 1,
   "metadata": {},
   "outputs": [],
   "source": [
    "import numpy as np\n",
    "import pandas as pd\n",
    "import geopandas as gpd\n",
    "import folium, fiona, branca"
   ]
  },
  {
   "cell_type": "code",
   "execution_count": 2,
   "metadata": {},
   "outputs": [],
   "source": [
    "df = pd.read_csv(\n",
    "    '../Data/ec_properties.csv',\n",
    "    parse_dates=['start_date', 'end_date'],\n",
    ")"
   ]
  },
  {
   "cell_type": "markdown",
   "metadata": {},
   "source": [
    "1. <font color='green'>Filtra el dataset para quedarse con aquellas casas que tienen latitud, longitud, y precio.</font>"
   ]
  },
  {
   "cell_type": "code",
   "execution_count": 3,
   "metadata": {},
   "outputs": [],
   "source": [
    "df = df[df['lon'].notnull() & df['lat'].notnull() & df['price'].notnull() & (df['l3'] == 'Guayaquil') & (df['price'] > 0) & (df['property_type'] == 'Casa') & (df['start_date'].dt.year == 2020) & (df['operation_type'] == 'Venta')]"
   ]
  },
  {
   "cell_type": "markdown",
   "metadata": {},
   "source": [
    "2. <font color='green'>Crea un dataframe grográfico con la información de las casas.</font>"
   ]
  },
  {
   "cell_type": "code",
   "execution_count": 4,
   "metadata": {},
   "outputs": [
    {
     "name": "stderr",
     "output_type": "stream",
     "text": [
      "/Users/alfreed0/opt/anaconda3/envs/geo_solver/lib/python3.9/site-packages/geopandas/array.py:275: ShapelyDeprecationWarning: The array interface is deprecated and will no longer work in Shapely 2.0. Convert the '.coords' to a numpy array instead.\n",
      "  return GeometryArray(vectorized.points_from_xy(x, y, z), crs=crs)\n"
     ]
    }
   ],
   "source": [
    "gdf = gpd.GeoDataFrame(df, geometry=gpd.points_from_xy(df['lon'], df['lat']))"
   ]
  },
  {
   "cell_type": "code",
   "execution_count": 5,
   "metadata": {},
   "outputs": [],
   "source": [
    "zonas = gpd.read_file('../Data/zonas_inec.geojson')"
   ]
  },
  {
   "cell_type": "code",
   "execution_count": 6,
   "metadata": {},
   "outputs": [],
   "source": [
    "zonas = zonas[zonas['DPA_NOMBRE'] == 'GUAYAQUIL']"
   ]
  },
  {
   "cell_type": "code",
   "execution_count": 7,
   "metadata": {},
   "outputs": [],
   "source": [
    "gdf.crs = zonas.crs"
   ]
  },
  {
   "cell_type": "markdown",
   "metadata": {},
   "source": [
    "3. <font color='green'>Realiza una intersección espacial entre el dataframe geográfico de las casas y el dataframe geográfico de los sectores censales.</font>"
   ]
  },
  {
   "cell_type": "code",
   "execution_count": 8,
   "metadata": {},
   "outputs": [],
   "source": [
    "dfr = gpd.sjoin(gdf, zonas, how='inner', op='intersects')"
   ]
  },
  {
   "cell_type": "markdown",
   "metadata": {},
   "source": [
    "4. <font color='green'>Realiza una agrupación por sectores censales y calcula los precios promedios de las casas.</font>"
   ]
  },
  {
   "cell_type": "code",
   "execution_count": 9,
   "metadata": {},
   "outputs": [],
   "source": [
    "choro = dfr.groupby('DPA_ZONA')['price'].mean().reset_index()"
   ]
  },
  {
   "cell_type": "code",
   "execution_count": 10,
   "metadata": {},
   "outputs": [],
   "source": [
    "choro = choro.merge(zonas , on='DPA_ZONA')"
   ]
  },
  {
   "cell_type": "code",
   "execution_count": 11,
   "metadata": {},
   "outputs": [],
   "source": [
    "choro = gpd.GeoDataFrame(choro, geometry='geometry')"
   ]
  },
  {
   "cell_type": "code",
   "execution_count": 12,
   "metadata": {},
   "outputs": [
    {
     "name": "stderr",
     "output_type": "stream",
     "text": [
      "/Users/alfreed0/opt/anaconda3/envs/geo_solver/lib/python3.9/site-packages/geopandas/io/file.py:299: FutureWarning: pandas.Int64Index is deprecated and will be removed from pandas in a future version. Use pandas.Index with the appropriate dtype instead.\n",
      "  pd.Int64Index,\n"
     ]
    }
   ],
   "source": [
    "choro.to_file('../Output/ShapeFiles/choro.geojson', driver='GeoJSON')"
   ]
  },
  {
   "cell_type": "code",
   "execution_count": 13,
   "metadata": {},
   "outputs": [
    {
     "name": "stderr",
     "output_type": "stream",
     "text": [
      "/var/folders/bq/_bqydjv50jg7scm3v5rwy0280000gn/T/ipykernel_99885/4076983077.py:1: UserWarning: Geometry is in a geographic CRS. Results from 'centroid' are likely incorrect. Use 'GeoSeries.to_crs()' to re-project geometries to a projected CRS before this operation.\n",
      "\n",
      "  centroid=dfr.geometry.centroid\n"
     ]
    }
   ],
   "source": [
    "centroid=dfr.geometry.centroid\n",
    "mapbox_api_key = r\"pk.eyJ1Ijoic3RhbWVuIiwiYSI6IlpkZEtuS1EifQ.jiH_c9ShtBwtqH9RdG40mw\"; tileset_ID_str = \"streets-v11\"; tilesize_pixels = \"256\";\n",
    "m=folium.Map(location=[centroid.y.mean(), centroid.x.mean()], zoom_start=12,\n",
    "             tiles = f\"https://api.mapbox.com/styles/v1/mapbox/{tileset_ID_str}/tiles/{tilesize_pixels}/{{z}}/{{x}}/{{y}}@2x?access_token={mapbox_api_key}\",\n",
    "             attr='MAPBOX')"
   ]
  },
  {
   "cell_type": "markdown",
   "metadata": {},
   "source": [
    "5. <font color='green'>Realiza un mapa coroplético con los precios promedios de los sectores censales.</font>"
   ]
  },
  {
   "cell_type": "code",
   "execution_count": 14,
   "metadata": {},
   "outputs": [],
   "source": [
    "field = \"price\"\n",
    "label = \"precio por sector\"\n",
    "colormap = branca.colormap.linear.YlOrBr_04.to_step(4).scale(choro[field].min(),choro[field].max())\n",
    "colormap.caption = label\n",
    "layer = folium.GeoJson('../Output/ShapeFiles/choro.geojson',\n",
    "        name=label,\n",
    "        style_function=lambda x: {\"weight\":2, 'color':'black','fillColor':colormap(x['properties'][field]), 'fillOpacity':1},\n",
    "        highlight_function=lambda x: {'weight':5, 'color':'black'},\n",
    "        smooth_factor=2.0,\n",
    "        tooltip=folium.features.GeoJsonTooltip(fields=['DPA_ZONA',field],\n",
    "                                      aliases=['DPA_ZONA',label], \n",
    "                                      labels=True, \n",
    "                                      sticky=True,\n",
    "                                      localize=True\n",
    "                                     ),\n",
    "        show = True,\n",
    "        overlay = True\n",
    "        )\n",
    "m.add_child(layer)\n",
    "m.add_child(colormap)\n",
    "m.save('../Output/ShapeFiles/choro.html')"
   ]
  },
  {
   "cell_type": "code",
   "execution_count": null,
   "metadata": {},
   "outputs": [],
   "source": []
  }
 ],
 "metadata": {
  "kernelspec": {
   "display_name": "Python 3.9.13 ('geo_solver')",
   "language": "python",
   "name": "python3"
  },
  "language_info": {
   "codemirror_mode": {
    "name": "ipython",
    "version": 3
   },
   "file_extension": ".py",
   "mimetype": "text/x-python",
   "name": "python",
   "nbconvert_exporter": "python",
   "pygments_lexer": "ipython3",
   "version": "3.9.13"
  },
  "orig_nbformat": 4,
  "vscode": {
   "interpreter": {
    "hash": "622d7312491f3c7b2c1436a222a7b4588c40c7693e6d7863c84d527dad8a7d54"
   }
  }
 },
 "nbformat": 4,
 "nbformat_minor": 2
}
