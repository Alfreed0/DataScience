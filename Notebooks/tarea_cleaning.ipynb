{
 "cells": [
  {
   "cell_type": "markdown",
   "metadata": {},
   "source": [
    "<font size='10'>Tarea de cleaning</font>\n",
    "\n",
    "Realizar un proceso de cleaning que consiste en no tener valores nulos y que las columnas de datos estén en un formato de datos correspondiente para las siguientes características: precio, metroscuadradostotales, titulo, latitud,longitud, preciomt2.\n",
    "\n",
    "Extraer las características de latitud y longitud, agregar estas nuevas características al dataset y realizar un proceso de cleaning que consiste en no tener valores nulos y que la data esté en un formato numérico según corresponda.\n",
    "\n",
    "Extraer la característica de precio x metro cuadrado que es la razón entre el precio y los metroscuadrados totales de la casa.\n",
    "\n",
    "Luego de realizar el proceso de cleaning para las características previamente descritas, usted debe eliminar las observaciones duplicadas. Para este set de datos se considera una observación duplicada cuando tiene el mismo precio, metroscuadradostotales, latitud y longitud.\n",
    "\n",
    "Finalmente usted debe exportar el dataset final a un archivo csv llamado dataset_final_csv y dejar un en el jupyter notebook los dtypes de las columnas, el shape, y el head del dataframe."
   ]
  },
  {
   "cell_type": "markdown",
   "metadata": {},
   "source": [
    "1. <font color='green'>Importe de librerias</font>"
   ]
  },
  {
   "cell_type": "code",
   "execution_count": 1,
   "metadata": {},
   "outputs": [],
   "source": [
    "import pandas as pd\n",
    "import numpy as np\n",
    "pd.options.mode.chained_assignment = None"
   ]
  },
  {
   "cell_type": "code",
   "execution_count": 2,
   "metadata": {},
   "outputs": [],
   "source": [
    "df = pd.read_csv('../Data/data_2019-1.csv')"
   ]
  },
  {
   "cell_type": "markdown",
   "metadata": {},
   "source": [
    "<font size='5'>Dataframe antes de los cambios pedidos en la tarea</font>"
   ]
  },
  {
   "cell_type": "code",
   "execution_count": 3,
   "metadata": {},
   "outputs": [
    {
     "data": {
      "text/html": [
       "<div>\n",
       "<style scoped>\n",
       "    .dataframe tbody tr th:only-of-type {\n",
       "        vertical-align: middle;\n",
       "    }\n",
       "\n",
       "    .dataframe tbody tr th {\n",
       "        vertical-align: top;\n",
       "    }\n",
       "\n",
       "    .dataframe thead th {\n",
       "        text-align: right;\n",
       "    }\n",
       "</style>\n",
       "<table border=\"1\" class=\"dataframe\">\n",
       "  <thead>\n",
       "    <tr style=\"text-align: right;\">\n",
       "      <th></th>\n",
       "      <th>antigüedad</th>\n",
       "      <th>cuartos</th>\n",
       "      <th>cuartosdebaño</th>\n",
       "      <th>estacionamiento</th>\n",
       "      <th>latlong</th>\n",
       "      <th>metroscuadradostotales</th>\n",
       "      <th>precio</th>\n",
       "      <th>publicado</th>\n",
       "      <th>tipodevendedor</th>\n",
       "      <th>titulo</th>\n",
       "    </tr>\n",
       "  </thead>\n",
       "  <tbody>\n",
       "    <tr>\n",
       "      <th>0</th>\n",
       "      <td>Entre 5 y 10 años</td>\n",
       "      <td>3.0</td>\n",
       "      <td>3.0</td>\n",
       "      <td>NaN</td>\n",
       "      <td>https://www.google.com/maps/place/-2.130760908...</td>\n",
       "      <td>400.0</td>\n",
       "      <td>$375.500</td>\n",
       "      <td>Publicado hace 4 hs</td>\n",
       "      <td>Inmobiliaria</td>\n",
       "      <td>Venta de  Casa Laguna Del Sol, 3 dormitorios, ...</td>\n",
       "    </tr>\n",
       "    <tr>\n",
       "      <th>1</th>\n",
       "      <td>Entre 10 y 20 años</td>\n",
       "      <td>4.0</td>\n",
       "      <td>5.0</td>\n",
       "      <td>Si</td>\n",
       "      <td>https://www.google.com/maps/place/-2.134000062...</td>\n",
       "      <td>337.0</td>\n",
       "      <td>$150.000</td>\n",
       "      <td>Publicado hace 11 hs</td>\n",
       "      <td>Inmobiliaria</td>\n",
       "      <td>En Venta Casa en Cdla. La Alborada Décima Etapa</td>\n",
       "    </tr>\n",
       "    <tr>\n",
       "      <th>2</th>\n",
       "      <td>Hasta 5 años</td>\n",
       "      <td>1.0</td>\n",
       "      <td>2.0</td>\n",
       "      <td>NaN</td>\n",
       "      <td>https://www.google.com/maps/place/-2.198999881...</td>\n",
       "      <td>95.0</td>\n",
       "      <td>$108.000</td>\n",
       "      <td>Publicado hace 4 hs</td>\n",
       "      <td>Inmobiliaria</td>\n",
       "      <td>Venta de Suit amoblada Kennedy Point, planta baja</td>\n",
       "    </tr>\n",
       "    <tr>\n",
       "      <th>3</th>\n",
       "      <td>Entre 10 y 20 años</td>\n",
       "      <td>1.0</td>\n",
       "      <td>1.0</td>\n",
       "      <td>Si</td>\n",
       "      <td>https://www.google.com/maps/place/-2.172635316...</td>\n",
       "      <td>60.0</td>\n",
       "      <td>$65.000</td>\n",
       "      <td>Publicado hace 4 hs</td>\n",
       "      <td>Dueño Directo</td>\n",
       "      <td>Suite Kennedy Amoblada</td>\n",
       "    </tr>\n",
       "    <tr>\n",
       "      <th>4</th>\n",
       "      <td>Hasta 5 años</td>\n",
       "      <td>3.0</td>\n",
       "      <td>3.0</td>\n",
       "      <td>Si</td>\n",
       "      <td>https://www.google.com/maps/place/-2.048000097...</td>\n",
       "      <td>132.0</td>\n",
       "      <td>$138.000</td>\n",
       "      <td>Publicado hace 4 hs</td>\n",
       "      <td>Inmobiliaria</td>\n",
       "      <td>Casa en Venta Urb. El Condado Vicolinci, Guaya...</td>\n",
       "    </tr>\n",
       "    <tr>\n",
       "      <th>...</th>\n",
       "      <td>...</td>\n",
       "      <td>...</td>\n",
       "      <td>...</td>\n",
       "      <td>...</td>\n",
       "      <td>...</td>\n",
       "      <td>...</td>\n",
       "      <td>...</td>\n",
       "      <td>...</td>\n",
       "      <td>...</td>\n",
       "      <td>...</td>\n",
       "    </tr>\n",
       "    <tr>\n",
       "      <th>4753</th>\n",
       "      <td>A estrenar</td>\n",
       "      <td>3.0</td>\n",
       "      <td>3.0</td>\n",
       "      <td>Si</td>\n",
       "      <td>https://www.google.com/maps/place/-2.160177946...</td>\n",
       "      <td>140.0</td>\n",
       "      <td>$125.000</td>\n",
       "      <td>Publicado hace 2 meses</td>\n",
       "      <td>Inmobiliaria</td>\n",
       "      <td>Lomas de Urdesa Vendo Departamento de Estreno</td>\n",
       "    </tr>\n",
       "    <tr>\n",
       "      <th>4754</th>\n",
       "      <td>A estrenar</td>\n",
       "      <td>3.0</td>\n",
       "      <td>3.0</td>\n",
       "      <td>Si</td>\n",
       "      <td>https://www.google.com/maps/place/-2.187999963...</td>\n",
       "      <td>212.0</td>\n",
       "      <td>$170.000</td>\n",
       "      <td>Publicado hace 2 meses</td>\n",
       "      <td>Inmobiliaria</td>\n",
       "      <td>Casa de Venta en Urb. TerraNostra, Vía a la Costa</td>\n",
       "    </tr>\n",
       "    <tr>\n",
       "      <th>4755</th>\n",
       "      <td>Entre 5 y 10 años</td>\n",
       "      <td>3.0</td>\n",
       "      <td>4.0</td>\n",
       "      <td>Si</td>\n",
       "      <td>https://www.google.com/maps/place/-2.138999938...</td>\n",
       "      <td>128.0</td>\n",
       "      <td>$98.000</td>\n",
       "      <td>Publicado hace 2 meses</td>\n",
       "      <td>Inmobiliaria</td>\n",
       "      <td>SE VENDE CASA EN SAN FELIPE, PRECIO DE OPORTUN...</td>\n",
       "    </tr>\n",
       "    <tr>\n",
       "      <th>4756</th>\n",
       "      <td>Entre 5 y 10 años</td>\n",
       "      <td>3.0</td>\n",
       "      <td>3.0</td>\n",
       "      <td>Si</td>\n",
       "      <td>https://www.google.com/maps/place/-2.171000003...</td>\n",
       "      <td>18.0</td>\n",
       "      <td>$1.000</td>\n",
       "      <td>Publicado hace 2 meses</td>\n",
       "      <td>Dueño Directo</td>\n",
       "      <td>Vendo casa de 2 plantas</td>\n",
       "    </tr>\n",
       "    <tr>\n",
       "      <th>4757</th>\n",
       "      <td>Entre 20 y 50 años</td>\n",
       "      <td>3.0</td>\n",
       "      <td>3.0</td>\n",
       "      <td>Si</td>\n",
       "      <td>https://www.google.com/maps/place/-2.154999971...</td>\n",
       "      <td>139.0</td>\n",
       "      <td>$135.000</td>\n",
       "      <td>Publicado hace 2 meses</td>\n",
       "      <td>Inmobiliaria</td>\n",
       "      <td>LOMAS DE URDESA DEPARTAMENTO AMOBLADO EN VENTA</td>\n",
       "    </tr>\n",
       "  </tbody>\n",
       "</table>\n",
       "<p>4758 rows × 10 columns</p>\n",
       "</div>"
      ],
      "text/plain": [
       "              antigüedad  cuartos  cuartosdebaño estacionamiento  \\\n",
       "0      Entre 5 y 10 años      3.0            3.0             NaN   \n",
       "1     Entre 10 y 20 años      4.0            5.0              Si   \n",
       "2           Hasta 5 años      1.0            2.0             NaN   \n",
       "3     Entre 10 y 20 años      1.0            1.0              Si   \n",
       "4           Hasta 5 años      3.0            3.0              Si   \n",
       "...                  ...      ...            ...             ...   \n",
       "4753          A estrenar      3.0            3.0              Si   \n",
       "4754          A estrenar      3.0            3.0              Si   \n",
       "4755   Entre 5 y 10 años      3.0            4.0              Si   \n",
       "4756   Entre 5 y 10 años      3.0            3.0              Si   \n",
       "4757  Entre 20 y 50 años      3.0            3.0              Si   \n",
       "\n",
       "                                                latlong  \\\n",
       "0     https://www.google.com/maps/place/-2.130760908...   \n",
       "1     https://www.google.com/maps/place/-2.134000062...   \n",
       "2     https://www.google.com/maps/place/-2.198999881...   \n",
       "3     https://www.google.com/maps/place/-2.172635316...   \n",
       "4     https://www.google.com/maps/place/-2.048000097...   \n",
       "...                                                 ...   \n",
       "4753  https://www.google.com/maps/place/-2.160177946...   \n",
       "4754  https://www.google.com/maps/place/-2.187999963...   \n",
       "4755  https://www.google.com/maps/place/-2.138999938...   \n",
       "4756  https://www.google.com/maps/place/-2.171000003...   \n",
       "4757  https://www.google.com/maps/place/-2.154999971...   \n",
       "\n",
       "      metroscuadradostotales     precio               publicado  \\\n",
       "0                      400.0   $375.500     Publicado hace 4 hs   \n",
       "1                      337.0   $150.000    Publicado hace 11 hs   \n",
       "2                       95.0   $108.000     Publicado hace 4 hs   \n",
       "3                       60.0    $65.000     Publicado hace 4 hs   \n",
       "4                      132.0   $138.000     Publicado hace 4 hs   \n",
       "...                      ...        ...                     ...   \n",
       "4753                   140.0   $125.000  Publicado hace 2 meses   \n",
       "4754                   212.0   $170.000  Publicado hace 2 meses   \n",
       "4755                   128.0    $98.000  Publicado hace 2 meses   \n",
       "4756                    18.0     $1.000  Publicado hace 2 meses   \n",
       "4757                   139.0   $135.000  Publicado hace 2 meses   \n",
       "\n",
       "     tipodevendedor                                             titulo  \n",
       "0      Inmobiliaria  Venta de  Casa Laguna Del Sol, 3 dormitorios, ...  \n",
       "1      Inmobiliaria    En Venta Casa en Cdla. La Alborada Décima Etapa  \n",
       "2      Inmobiliaria  Venta de Suit amoblada Kennedy Point, planta baja  \n",
       "3     Dueño Directo                             Suite Kennedy Amoblada  \n",
       "4      Inmobiliaria  Casa en Venta Urb. El Condado Vicolinci, Guaya...  \n",
       "...             ...                                                ...  \n",
       "4753   Inmobiliaria      Lomas de Urdesa Vendo Departamento de Estreno  \n",
       "4754   Inmobiliaria  Casa de Venta en Urb. TerraNostra, Vía a la Costa  \n",
       "4755   Inmobiliaria  SE VENDE CASA EN SAN FELIPE, PRECIO DE OPORTUN...  \n",
       "4756  Dueño Directo                            Vendo casa de 2 plantas  \n",
       "4757   Inmobiliaria     LOMAS DE URDESA DEPARTAMENTO AMOBLADO EN VENTA  \n",
       "\n",
       "[4758 rows x 10 columns]"
      ]
     },
     "execution_count": 3,
     "metadata": {},
     "output_type": "execute_result"
    }
   ],
   "source": [
    "df"
   ]
  },
  {
   "cell_type": "code",
   "execution_count": 4,
   "metadata": {},
   "outputs": [
    {
     "data": {
      "text/plain": [
       "antigüedad                 object\n",
       "cuartos                   float64\n",
       "cuartosdebaño             float64\n",
       "estacionamiento            object\n",
       "latlong                    object\n",
       "metroscuadradostotales    float64\n",
       "precio                     object\n",
       "publicado                  object\n",
       "tipodevendedor             object\n",
       "titulo                     object\n",
       "dtype: object"
      ]
     },
     "execution_count": 4,
     "metadata": {},
     "output_type": "execute_result"
    }
   ],
   "source": [
    "df.dtypes"
   ]
  },
  {
   "cell_type": "code",
   "execution_count": 5,
   "metadata": {},
   "outputs": [
    {
     "data": {
      "text/plain": [
       "(4758, 10)"
      ]
     },
     "execution_count": 5,
     "metadata": {},
     "output_type": "execute_result"
    }
   ],
   "source": [
    "df.shape"
   ]
  },
  {
   "cell_type": "code",
   "execution_count": 6,
   "metadata": {},
   "outputs": [
    {
     "data": {
      "text/html": [
       "<div>\n",
       "<style scoped>\n",
       "    .dataframe tbody tr th:only-of-type {\n",
       "        vertical-align: middle;\n",
       "    }\n",
       "\n",
       "    .dataframe tbody tr th {\n",
       "        vertical-align: top;\n",
       "    }\n",
       "\n",
       "    .dataframe thead th {\n",
       "        text-align: right;\n",
       "    }\n",
       "</style>\n",
       "<table border=\"1\" class=\"dataframe\">\n",
       "  <thead>\n",
       "    <tr style=\"text-align: right;\">\n",
       "      <th></th>\n",
       "      <th>antigüedad</th>\n",
       "      <th>cuartos</th>\n",
       "      <th>cuartosdebaño</th>\n",
       "      <th>estacionamiento</th>\n",
       "      <th>latlong</th>\n",
       "      <th>metroscuadradostotales</th>\n",
       "      <th>precio</th>\n",
       "      <th>publicado</th>\n",
       "      <th>tipodevendedor</th>\n",
       "      <th>titulo</th>\n",
       "    </tr>\n",
       "  </thead>\n",
       "  <tbody>\n",
       "    <tr>\n",
       "      <th>0</th>\n",
       "      <td>Entre 5 y 10 años</td>\n",
       "      <td>3.0</td>\n",
       "      <td>3.0</td>\n",
       "      <td>NaN</td>\n",
       "      <td>https://www.google.com/maps/place/-2.130760908...</td>\n",
       "      <td>400.0</td>\n",
       "      <td>$375.500</td>\n",
       "      <td>Publicado hace 4 hs</td>\n",
       "      <td>Inmobiliaria</td>\n",
       "      <td>Venta de  Casa Laguna Del Sol, 3 dormitorios, ...</td>\n",
       "    </tr>\n",
       "    <tr>\n",
       "      <th>1</th>\n",
       "      <td>Entre 10 y 20 años</td>\n",
       "      <td>4.0</td>\n",
       "      <td>5.0</td>\n",
       "      <td>Si</td>\n",
       "      <td>https://www.google.com/maps/place/-2.134000062...</td>\n",
       "      <td>337.0</td>\n",
       "      <td>$150.000</td>\n",
       "      <td>Publicado hace 11 hs</td>\n",
       "      <td>Inmobiliaria</td>\n",
       "      <td>En Venta Casa en Cdla. La Alborada Décima Etapa</td>\n",
       "    </tr>\n",
       "    <tr>\n",
       "      <th>2</th>\n",
       "      <td>Hasta 5 años</td>\n",
       "      <td>1.0</td>\n",
       "      <td>2.0</td>\n",
       "      <td>NaN</td>\n",
       "      <td>https://www.google.com/maps/place/-2.198999881...</td>\n",
       "      <td>95.0</td>\n",
       "      <td>$108.000</td>\n",
       "      <td>Publicado hace 4 hs</td>\n",
       "      <td>Inmobiliaria</td>\n",
       "      <td>Venta de Suit amoblada Kennedy Point, planta baja</td>\n",
       "    </tr>\n",
       "    <tr>\n",
       "      <th>3</th>\n",
       "      <td>Entre 10 y 20 años</td>\n",
       "      <td>1.0</td>\n",
       "      <td>1.0</td>\n",
       "      <td>Si</td>\n",
       "      <td>https://www.google.com/maps/place/-2.172635316...</td>\n",
       "      <td>60.0</td>\n",
       "      <td>$65.000</td>\n",
       "      <td>Publicado hace 4 hs</td>\n",
       "      <td>Dueño Directo</td>\n",
       "      <td>Suite Kennedy Amoblada</td>\n",
       "    </tr>\n",
       "    <tr>\n",
       "      <th>4</th>\n",
       "      <td>Hasta 5 años</td>\n",
       "      <td>3.0</td>\n",
       "      <td>3.0</td>\n",
       "      <td>Si</td>\n",
       "      <td>https://www.google.com/maps/place/-2.048000097...</td>\n",
       "      <td>132.0</td>\n",
       "      <td>$138.000</td>\n",
       "      <td>Publicado hace 4 hs</td>\n",
       "      <td>Inmobiliaria</td>\n",
       "      <td>Casa en Venta Urb. El Condado Vicolinci, Guaya...</td>\n",
       "    </tr>\n",
       "  </tbody>\n",
       "</table>\n",
       "</div>"
      ],
      "text/plain": [
       "           antigüedad  cuartos  cuartosdebaño estacionamiento  \\\n",
       "0   Entre 5 y 10 años      3.0            3.0             NaN   \n",
       "1  Entre 10 y 20 años      4.0            5.0              Si   \n",
       "2        Hasta 5 años      1.0            2.0             NaN   \n",
       "3  Entre 10 y 20 años      1.0            1.0              Si   \n",
       "4        Hasta 5 años      3.0            3.0              Si   \n",
       "\n",
       "                                             latlong  metroscuadradostotales  \\\n",
       "0  https://www.google.com/maps/place/-2.130760908...                   400.0   \n",
       "1  https://www.google.com/maps/place/-2.134000062...                   337.0   \n",
       "2  https://www.google.com/maps/place/-2.198999881...                    95.0   \n",
       "3  https://www.google.com/maps/place/-2.172635316...                    60.0   \n",
       "4  https://www.google.com/maps/place/-2.048000097...                   132.0   \n",
       "\n",
       "      precio             publicado tipodevendedor  \\\n",
       "0   $375.500   Publicado hace 4 hs   Inmobiliaria   \n",
       "1   $150.000  Publicado hace 11 hs   Inmobiliaria   \n",
       "2   $108.000   Publicado hace 4 hs   Inmobiliaria   \n",
       "3    $65.000   Publicado hace 4 hs  Dueño Directo   \n",
       "4   $138.000   Publicado hace 4 hs   Inmobiliaria   \n",
       "\n",
       "                                              titulo  \n",
       "0  Venta de  Casa Laguna Del Sol, 3 dormitorios, ...  \n",
       "1    En Venta Casa en Cdla. La Alborada Décima Etapa  \n",
       "2  Venta de Suit amoblada Kennedy Point, planta baja  \n",
       "3                             Suite Kennedy Amoblada  \n",
       "4  Casa en Venta Urb. El Condado Vicolinci, Guaya...  "
      ]
     },
     "execution_count": 6,
     "metadata": {},
     "output_type": "execute_result"
    }
   ],
   "source": [
    "df.head()"
   ]
  },
  {
   "cell_type": "markdown",
   "metadata": {},
   "source": [
    "<font size='5'>Dataframe despues de los cambios efectuados</font>"
   ]
  },
  {
   "cell_type": "code",
   "execution_count": 23,
   "metadata": {},
   "outputs": [
    {
     "data": {
      "text/html": [
       "<div>\n",
       "<style scoped>\n",
       "    .dataframe tbody tr th:only-of-type {\n",
       "        vertical-align: middle;\n",
       "    }\n",
       "\n",
       "    .dataframe tbody tr th {\n",
       "        vertical-align: top;\n",
       "    }\n",
       "\n",
       "    .dataframe thead th {\n",
       "        text-align: right;\n",
       "    }\n",
       "</style>\n",
       "<table border=\"1\" class=\"dataframe\">\n",
       "  <thead>\n",
       "    <tr style=\"text-align: right;\">\n",
       "      <th></th>\n",
       "      <th>metroscuadradostotales</th>\n",
       "      <th>precio</th>\n",
       "      <th>titulo</th>\n",
       "      <th>latitud</th>\n",
       "      <th>longitud</th>\n",
       "      <th>preciomt2</th>\n",
       "    </tr>\n",
       "  </thead>\n",
       "  <tbody>\n",
       "    <tr>\n",
       "      <th>0</th>\n",
       "      <td>337</td>\n",
       "      <td>150000</td>\n",
       "      <td>En Venta Casa en Cdla. La Alborada Décima Etapa</td>\n",
       "      <td>-2.134000</td>\n",
       "      <td>-79.908997</td>\n",
       "      <td>445.103858</td>\n",
       "    </tr>\n",
       "    <tr>\n",
       "      <th>1</th>\n",
       "      <td>60</td>\n",
       "      <td>65000</td>\n",
       "      <td>Suite Kennedy Amoblada</td>\n",
       "      <td>-2.172635</td>\n",
       "      <td>-79.900551</td>\n",
       "      <td>1083.333333</td>\n",
       "    </tr>\n",
       "    <tr>\n",
       "      <th>2</th>\n",
       "      <td>132</td>\n",
       "      <td>138000</td>\n",
       "      <td>Casa en Venta Urb. El Condado Vicolinci, Guaya...</td>\n",
       "      <td>-2.048000</td>\n",
       "      <td>-79.904999</td>\n",
       "      <td>1045.454545</td>\n",
       "    </tr>\n",
       "    <tr>\n",
       "      <th>3</th>\n",
       "      <td>170</td>\n",
       "      <td>105000</td>\n",
       "      <td>Venta Departamento Urdesa Norte</td>\n",
       "      <td>-2.165000</td>\n",
       "      <td>-79.910000</td>\n",
       "      <td>617.647059</td>\n",
       "    </tr>\n",
       "    <tr>\n",
       "      <th>4</th>\n",
       "      <td>142</td>\n",
       "      <td>100000</td>\n",
       "      <td>Vendo Casa Villa Club Etapa Floral</td>\n",
       "      <td>-2.174930</td>\n",
       "      <td>-79.901154</td>\n",
       "      <td>704.225352</td>\n",
       "    </tr>\n",
       "    <tr>\n",
       "      <th>...</th>\n",
       "      <td>...</td>\n",
       "      <td>...</td>\n",
       "      <td>...</td>\n",
       "      <td>...</td>\n",
       "      <td>...</td>\n",
       "      <td>...</td>\n",
       "    </tr>\n",
       "    <tr>\n",
       "      <th>3715</th>\n",
       "      <td>200</td>\n",
       "      <td>275000</td>\n",
       "      <td>Samborondón Sendero Al Rio en Venta</td>\n",
       "      <td>-2.189355</td>\n",
       "      <td>-79.889206</td>\n",
       "      <td>1375.000000</td>\n",
       "    </tr>\n",
       "    <tr>\n",
       "      <th>3716</th>\n",
       "      <td>140</td>\n",
       "      <td>125000</td>\n",
       "      <td>Lomas de Urdesa Vendo Departamento de Estreno</td>\n",
       "      <td>-2.160178</td>\n",
       "      <td>-79.895027</td>\n",
       "      <td>892.857143</td>\n",
       "    </tr>\n",
       "    <tr>\n",
       "      <th>3717</th>\n",
       "      <td>128</td>\n",
       "      <td>98000</td>\n",
       "      <td>SE VENDE CASA EN SAN FELIPE, PRECIO DE OPORTUN...</td>\n",
       "      <td>-2.139000</td>\n",
       "      <td>-79.921997</td>\n",
       "      <td>765.625000</td>\n",
       "    </tr>\n",
       "    <tr>\n",
       "      <th>3718</th>\n",
       "      <td>18</td>\n",
       "      <td>1000</td>\n",
       "      <td>Vendo casa de 2 plantas</td>\n",
       "      <td>-2.171000</td>\n",
       "      <td>-79.921997</td>\n",
       "      <td>55.555556</td>\n",
       "    </tr>\n",
       "    <tr>\n",
       "      <th>3719</th>\n",
       "      <td>139</td>\n",
       "      <td>135000</td>\n",
       "      <td>LOMAS DE URDESA DEPARTAMENTO AMOBLADO EN VENTA</td>\n",
       "      <td>-2.155000</td>\n",
       "      <td>-79.890999</td>\n",
       "      <td>971.223022</td>\n",
       "    </tr>\n",
       "  </tbody>\n",
       "</table>\n",
       "<p>3720 rows × 6 columns</p>\n",
       "</div>"
      ],
      "text/plain": [
       "      metroscuadradostotales  precio  \\\n",
       "0                        337  150000   \n",
       "1                         60   65000   \n",
       "2                        132  138000   \n",
       "3                        170  105000   \n",
       "4                        142  100000   \n",
       "...                      ...     ...   \n",
       "3715                     200  275000   \n",
       "3716                     140  125000   \n",
       "3717                     128   98000   \n",
       "3718                      18    1000   \n",
       "3719                     139  135000   \n",
       "\n",
       "                                                 titulo   latitud   longitud  \\\n",
       "0       En Venta Casa en Cdla. La Alborada Décima Etapa -2.134000 -79.908997   \n",
       "1                                Suite Kennedy Amoblada -2.172635 -79.900551   \n",
       "2     Casa en Venta Urb. El Condado Vicolinci, Guaya... -2.048000 -79.904999   \n",
       "3                       Venta Departamento Urdesa Norte -2.165000 -79.910000   \n",
       "4                    Vendo Casa Villa Club Etapa Floral -2.174930 -79.901154   \n",
       "...                                                 ...       ...        ...   \n",
       "3715                Samborondón Sendero Al Rio en Venta -2.189355 -79.889206   \n",
       "3716      Lomas de Urdesa Vendo Departamento de Estreno -2.160178 -79.895027   \n",
       "3717  SE VENDE CASA EN SAN FELIPE, PRECIO DE OPORTUN... -2.139000 -79.921997   \n",
       "3718                            Vendo casa de 2 plantas -2.171000 -79.921997   \n",
       "3719     LOMAS DE URDESA DEPARTAMENTO AMOBLADO EN VENTA -2.155000 -79.890999   \n",
       "\n",
       "        preciomt2  \n",
       "0      445.103858  \n",
       "1     1083.333333  \n",
       "2     1045.454545  \n",
       "3      617.647059  \n",
       "4      704.225352  \n",
       "...           ...  \n",
       "3715  1375.000000  \n",
       "3716   892.857143  \n",
       "3717   765.625000  \n",
       "3718    55.555556  \n",
       "3719   971.223022  \n",
       "\n",
       "[3720 rows x 6 columns]"
      ]
     },
     "execution_count": 23,
     "metadata": {},
     "output_type": "execute_result"
    }
   ],
   "source": [
    "df"
   ]
  },
  {
   "cell_type": "code",
   "execution_count": 24,
   "metadata": {},
   "outputs": [
    {
     "data": {
      "text/plain": [
       "metroscuadradostotales      int64\n",
       "precio                      int64\n",
       "titulo                     object\n",
       "latitud                   float64\n",
       "longitud                  float64\n",
       "preciomt2                 float64\n",
       "dtype: object"
      ]
     },
     "execution_count": 24,
     "metadata": {},
     "output_type": "execute_result"
    }
   ],
   "source": [
    "df.dtypes"
   ]
  },
  {
   "cell_type": "code",
   "execution_count": 25,
   "metadata": {},
   "outputs": [
    {
     "data": {
      "text/plain": [
       "(3720, 6)"
      ]
     },
     "execution_count": 25,
     "metadata": {},
     "output_type": "execute_result"
    }
   ],
   "source": [
    "df.shape"
   ]
  },
  {
   "cell_type": "code",
   "execution_count": 26,
   "metadata": {},
   "outputs": [
    {
     "data": {
      "text/html": [
       "<div>\n",
       "<style scoped>\n",
       "    .dataframe tbody tr th:only-of-type {\n",
       "        vertical-align: middle;\n",
       "    }\n",
       "\n",
       "    .dataframe tbody tr th {\n",
       "        vertical-align: top;\n",
       "    }\n",
       "\n",
       "    .dataframe thead th {\n",
       "        text-align: right;\n",
       "    }\n",
       "</style>\n",
       "<table border=\"1\" class=\"dataframe\">\n",
       "  <thead>\n",
       "    <tr style=\"text-align: right;\">\n",
       "      <th></th>\n",
       "      <th>metroscuadradostotales</th>\n",
       "      <th>precio</th>\n",
       "      <th>titulo</th>\n",
       "      <th>latitud</th>\n",
       "      <th>longitud</th>\n",
       "      <th>preciomt2</th>\n",
       "    </tr>\n",
       "  </thead>\n",
       "  <tbody>\n",
       "    <tr>\n",
       "      <th>0</th>\n",
       "      <td>337</td>\n",
       "      <td>150000</td>\n",
       "      <td>En Venta Casa en Cdla. La Alborada Décima Etapa</td>\n",
       "      <td>-2.134000</td>\n",
       "      <td>-79.908997</td>\n",
       "      <td>445.103858</td>\n",
       "    </tr>\n",
       "    <tr>\n",
       "      <th>1</th>\n",
       "      <td>60</td>\n",
       "      <td>65000</td>\n",
       "      <td>Suite Kennedy Amoblada</td>\n",
       "      <td>-2.172635</td>\n",
       "      <td>-79.900551</td>\n",
       "      <td>1083.333333</td>\n",
       "    </tr>\n",
       "    <tr>\n",
       "      <th>2</th>\n",
       "      <td>132</td>\n",
       "      <td>138000</td>\n",
       "      <td>Casa en Venta Urb. El Condado Vicolinci, Guaya...</td>\n",
       "      <td>-2.048000</td>\n",
       "      <td>-79.904999</td>\n",
       "      <td>1045.454545</td>\n",
       "    </tr>\n",
       "    <tr>\n",
       "      <th>3</th>\n",
       "      <td>170</td>\n",
       "      <td>105000</td>\n",
       "      <td>Venta Departamento Urdesa Norte</td>\n",
       "      <td>-2.165000</td>\n",
       "      <td>-79.910000</td>\n",
       "      <td>617.647059</td>\n",
       "    </tr>\n",
       "    <tr>\n",
       "      <th>4</th>\n",
       "      <td>142</td>\n",
       "      <td>100000</td>\n",
       "      <td>Vendo Casa Villa Club Etapa Floral</td>\n",
       "      <td>-2.174930</td>\n",
       "      <td>-79.901154</td>\n",
       "      <td>704.225352</td>\n",
       "    </tr>\n",
       "  </tbody>\n",
       "</table>\n",
       "</div>"
      ],
      "text/plain": [
       "   metroscuadradostotales  precio  \\\n",
       "0                     337  150000   \n",
       "1                      60   65000   \n",
       "2                     132  138000   \n",
       "3                     170  105000   \n",
       "4                     142  100000   \n",
       "\n",
       "                                              titulo   latitud   longitud  \\\n",
       "0    En Venta Casa en Cdla. La Alborada Décima Etapa -2.134000 -79.908997   \n",
       "1                             Suite Kennedy Amoblada -2.172635 -79.900551   \n",
       "2  Casa en Venta Urb. El Condado Vicolinci, Guaya... -2.048000 -79.904999   \n",
       "3                    Venta Departamento Urdesa Norte -2.165000 -79.910000   \n",
       "4                 Vendo Casa Villa Club Etapa Floral -2.174930 -79.901154   \n",
       "\n",
       "     preciomt2  \n",
       "0   445.103858  \n",
       "1  1083.333333  \n",
       "2  1045.454545  \n",
       "3   617.647059  \n",
       "4   704.225352  "
      ]
     },
     "execution_count": 26,
     "metadata": {},
     "output_type": "execute_result"
    }
   ],
   "source": [
    "df.head()"
   ]
  },
  {
   "cell_type": "markdown",
   "metadata": {},
   "source": [
    "2. <font color='green'>Limpiar las filas con datos nulos y resetear los indices</font>"
   ]
  },
  {
   "cell_type": "code",
   "execution_count": 11,
   "metadata": {},
   "outputs": [],
   "source": [
    "df.dropna(inplace=True)"
   ]
  },
  {
   "cell_type": "markdown",
   "metadata": {},
   "source": [
    "3. <font color='green'>Inclusión de las series de latitud y longitud</font>"
   ]
  },
  {
   "cell_type": "code",
   "execution_count": 12,
   "metadata": {},
   "outputs": [],
   "source": [
    "df[['latitud', 'longitud']] = df['latlong'].str.split('/', expand=True)[5].str.split(',', expand=True)"
   ]
  },
  {
   "cell_type": "code",
   "execution_count": 13,
   "metadata": {},
   "outputs": [],
   "source": [
    "df['precio'] = df['precio'].str.replace('$', '', regex=False).str.strip(' ').str.replace('.', '', regex=False)"
   ]
  },
  {
   "cell_type": "markdown",
   "metadata": {},
   "source": [
    "4. <font color='green'>Limpieza de valores vacíos en la serie precio</font>"
   ]
  },
  {
   "cell_type": "code",
   "execution_count": 14,
   "metadata": {},
   "outputs": [],
   "source": [
    "df = df.loc[df['precio'] != '']"
   ]
  },
  {
   "cell_type": "markdown",
   "metadata": {},
   "source": [
    "5. <font color='green'>Casteo de valores en las series al tipo de dato que le corresponde</font>"
   ]
  },
  {
   "cell_type": "code",
   "execution_count": 15,
   "metadata": {},
   "outputs": [],
   "source": [
    "df['precio'] = df['precio'].astype('int64')"
   ]
  },
  {
   "cell_type": "code",
   "execution_count": 16,
   "metadata": {},
   "outputs": [],
   "source": [
    "df['metroscuadradostotales'] = df['metroscuadradostotales'].astype('int64')"
   ]
  },
  {
   "cell_type": "code",
   "execution_count": 17,
   "metadata": {},
   "outputs": [],
   "source": [
    "df['latitud'] = df['latitud'].astype('float64')\n",
    "df['longitud'] = df['longitud'].astype('float64')"
   ]
  },
  {
   "cell_type": "markdown",
   "metadata": {},
   "source": [
    "6. <font color='green'>Inclusión de serie preciomt2</font>"
   ]
  },
  {
   "cell_type": "code",
   "execution_count": 18,
   "metadata": {},
   "outputs": [],
   "source": [
    "df['preciomt2'] = df['precio'] / df['metroscuadradostotales']"
   ]
  },
  {
   "cell_type": "markdown",
   "metadata": {},
   "source": [
    "7. <font color='green'>Dropeo de las series que no son necesarias en el dataframe</font>"
   ]
  },
  {
   "cell_type": "code",
   "execution_count": 19,
   "metadata": {},
   "outputs": [],
   "source": [
    "df.drop(columns=['antigüedad', 'cuartos', 'cuartosdebaño', 'estacionamiento', 'latlong', 'publicado', 'tipodevendedor'], inplace=True)"
   ]
  },
  {
   "cell_type": "markdown",
   "metadata": {},
   "source": [
    "8. <font color='green'>Dropeo de valores duplicados dependiendo de las series precio, metroscuadradostotales, latitud, longitud</font>"
   ]
  },
  {
   "cell_type": "code",
   "execution_count": 20,
   "metadata": {},
   "outputs": [],
   "source": [
    "df.drop_duplicates(subset=['precio', 'metroscuadradostotales', 'latitud', 'longitud'], inplace=True)"
   ]
  },
  {
   "cell_type": "markdown",
   "metadata": {},
   "source": [
    "9. <font color='green'>Reseteo de índices</font>"
   ]
  },
  {
   "cell_type": "code",
   "execution_count": 21,
   "metadata": {},
   "outputs": [],
   "source": [
    "df.reset_index(drop=True, inplace=True)"
   ]
  },
  {
   "cell_type": "markdown",
   "metadata": {},
   "source": [
    "10. <font color='green'>Exporte del nuevo dataframe limpio a un archivo csv</font>"
   ]
  },
  {
   "cell_type": "code",
   "execution_count": 22,
   "metadata": {},
   "outputs": [],
   "source": [
    "df.to_csv('../Data/dataset_final_csv.csv', index=False)"
   ]
  }
 ],
 "metadata": {
  "kernelspec": {
   "display_name": "Python 3.9.12 ('base')",
   "language": "python",
   "name": "python3"
  },
  "language_info": {
   "codemirror_mode": {
    "name": "ipython",
    "version": 3
   },
   "file_extension": ".py",
   "mimetype": "text/x-python",
   "name": "python",
   "nbconvert_exporter": "python",
   "pygments_lexer": "ipython3",
   "version": "3.9.12"
  },
  "orig_nbformat": 4,
  "vscode": {
   "interpreter": {
    "hash": "f231e3dd4e2310233f0da3bebee70897f3f224a7a9840570fc27b4051ed897ef"
   }
  }
 },
 "nbformat": 4,
 "nbformat_minor": 2
}
